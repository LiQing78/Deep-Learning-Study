1. Recode all examples;
见 deep learning class1.ipynb

2. Please combine image crop, color shift, rotation and perspective transform together to complete a data augmentation script.
   Your code need to be completed in Python/C++ in .py or .cpp file with comments and readme file to indicate how to use.


3. Do think about your own interests very carefully and choose your topic within 3 weeks.
A:对于该领域了解并不太深，自己能力也有限，后续慢慢有了一定的认知之后才定吧，暂定：CV in Self-Driving Cars

4. 【Please send answers to those questions to mqgao@kaikeba.com】
   Please answer some questions about our course. We do appreciate your help.
   4.1 What do you want to get in this course?
   4.2 What problems do you want to solve?
   4.3 What advantages do you have to accomplish your goal?
   4.4 What disadvantages you need to overcome to accomplish your goal?
   4.5 How will you plan to study in this course?
   
   转行，我想做算法开发了
