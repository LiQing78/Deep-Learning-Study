{
 "cells": [
  {
   "cell_type": "code",
   "execution_count": 1,
   "metadata": {},
   "outputs": [],
   "source": [
    "import cv2\n",
    "import numpy as np"
   ]
  },
  {
   "cell_type": "code",
   "execution_count": 2,
   "metadata": {},
   "outputs": [],
   "source": [
    "# 读入并显示一副图片\n",
    "img = cv2.imread(\"E:/lena.jpg\")\n",
    "cv2.imshow(\"lena\", img)\n",
    "key = cv2.waitKey()\n",
    "if key == 27:\n",
    "    cv2.destroyAllWindows()"
   ]
  },
  {
   "cell_type": "code",
   "execution_count": 3,
   "metadata": {},
   "outputs": [],
   "source": [
    "# 查看经过高斯滤波之后的影响\n",
    "# GaussianBlur   -- Blurs an image using a Gaussian filter.模糊图像\n",
    "# cv2.GaussianBlur(src, ksize, sigmaX）\n",
    "# src – input image; the image can have any number of channels, which are processed independently, but the depth should be CV_8U, CV_16U, CV_16S, CV_32F or CV_64F.\n",
    "# ksize – Gaussian kernel size. ksize.width and ksize.height can differ but they both must be positive and odd.\n",
    "# sigmaX – Gaussian kernel standard deviation in X direction. X方向高斯核标准差\n",
    "g_img = cv2.GaussianBlur(img, (7, 7), 5)\n",
    "cv2.imshow(\"gaussian_blur_lena\", g_img)\n",
    "key = cv2.waitKey()\n",
    "if key == 27:\n",
    "    cv2.destroyAllWindows()"
   ]
  },
  {
   "cell_type": "code",
   "execution_count": 4,
   "metadata": {},
   "outputs": [],
   "source": [
    "# 增大了ksize，卷积的范围变大，图像变得更模糊\n",
    "g_img = cv2.GaussianBlur(img, (17, 17), 5)\n",
    "cv2.imshow(\"gaussian_blur_lena\", g_img)\n",
    "key = cv2.waitKey()\n",
    "if key == 27:\n",
    "    cv2.destroyAllWindows()"
   ]
  },
  {
   "cell_type": "code",
   "execution_count": 6,
   "metadata": {},
   "outputs": [],
   "source": [
    "# 减小了sigmaX,方差更小，图像更尖锐，\n",
    "g_img = cv2.GaussianBlur(img, (5, 5), 1)\n",
    "cv2.imshow(\"gaussian-blur_img\", g_img)\n",
    "key = cv2.waitKey()\n",
    "if key == 27:\n",
    "    cv2.destroyAllWindows()"
   ]
  },
  {
   "cell_type": "code",
   "execution_count": 16,
   "metadata": {},
   "outputs": [
    {
     "name": "stdout",
     "output_type": "stream",
     "text": [
      "[[0.12895603]\n",
      " [0.14251846]\n",
      " [0.15133131]\n",
      " [0.1543884 ]\n",
      " [0.15133131]\n",
      " [0.14251846]\n",
      " [0.12895603]]\n"
     ]
    }
   ],
   "source": [
    "kernel = cv2.getGaussianKernel(7, 5)\n",
    "print(kernel)"
   ]
  },
  {
   "cell_type": "code",
   "execution_count": 17,
   "metadata": {},
   "outputs": [],
   "source": [
    "g1_img = cv2.GaussianBlur(img, (7,7), 5)\n",
    "# sepFilter2D -- Applies a separable linear filter to an image.\n",
    "# The function applies a separable linear filter to the image.\n",
    "# That is, first, every row of src is filtered with the 1D kernel kernelX .\n",
    "# Then, every column of the result is filtered with the 1D kernel kernelY . \n",
    "# The final result shifted by delta is stored in dst .\n",
    "# cv2.sepFilter2D(src, ddepth, kernelX, kernelY)\n",
    "# ddepth - Destination image depth. \n",
    "# kernelX – Coefficients for filtering each row.\n",
    "# kernelY – Coefficients for filtering each column.\n",
    "g2_img = cv2.sepFilter2D(img, -1, kernel, kernel)\n",
    "cv2.imshow(\"g1_Gaussian_Blur\", g1_img)\n",
    "cv2.imshow(\"g2_Gaussian_Blur\", g2_img)\n",
    "key = cv2.waitKey()\n",
    "if key == 27:\n",
    "    cv2.destroyAllWindows()"
   ]
  },
  {
   "cell_type": "code",
   "execution_count": 21,
   "metadata": {},
   "outputs": [],
   "source": [
    "# 2nd derivative: laplacian 二阶导拉普拉斯--双边缘\n",
    "kernel_lap = np.array([[0, 1, 0], [1, -4, 1], [0, 1, 0]], np.float32) # 构建拉普拉斯卷积核\n",
    "# cv2.filter2D -- Convolves an image with the kernel.\n",
    "# cv2.filter2D(src, ddepth, kernel）\n",
    "# ddepth -- 当ddepth = -1时，输出图像将具有与源相同的深度。\n",
    "# kernel – convolution kernel / (correlation kernel), a single-channel floating point matrix;\n",
    "# if you want to apply different kernels to different channels, \n",
    "# split the image into separate color planes using split() and process them individually.\n",
    "lap_img = cv2.filter2D(img, -1, kernel = kernel_lap)  \n",
    "cv2.imshow(\"lap_img\", lap_img)\n",
    "key = cv2.waitKey()\n",
    "if key == 27:\n",
    "    cv2.destroyAllWindows()"
   ]
  },
  {
   "cell_type": "code",
   "execution_count": 23,
   "metadata": {},
   "outputs": [],
   "source": [
    "# 图像锐化=原图+边缘  -- 突出边缘\n",
    "kernel_sharp1 = np.array([[0, 1, 0], [1, -3, 1], [0, 1, 0]], np.float32) \n",
    "kernel_sharp2 = np.array([[0, 1, 0], [1, -4, 1], [0, 1, 0]], np.float32)  # Lap\n",
    "sharp_img1 = cv2.filter2D(img, -1, kernel=kernel_sharp1)\n",
    "sharp_img2 = cv2.filter2D(img, -1, kernel=kernel_sharp2)\n",
    "cv2.imshow(\"sharp_img1\", sharp_img1)\n",
    "cv2.imshow(\"sharp_img2\", sharp_img2)\n",
    "key = cv2.waitKey()\n",
    "if key == 27:\n",
    "    cv2.destroyAllWindows()"
   ]
  },
  {
   "cell_type": "code",
   "execution_count": 28,
   "metadata": {},
   "outputs": [],
   "source": [
    "kernel_sharp3 = np.array([[0, -1, 0], [-1, 5, -1], [0, -1, 0]], np.float32)\n",
    "kernel_sharp4 = np.array([[0, -1, 0], [-1, 4, -1], [0, -1, 0]], np.float32)\n",
    "sharp_img3 = cv2.filter2D(img, -1, kernel=kernel_sharp3)\n",
    "sharp_img4 = cv2.filter2D(img, -1, kernel=kernel_sharp4)\n",
    "cv2.imshow('sharp_lenna3', sharp_img3)\n",
    "cv2.imshow('sharp_lenna4', sharp_img4)\n",
    "key = cv2.waitKey()\n",
    "if key == 27:\n",
    "    cv2.destroyAllWindows()"
   ]
  },
  {
   "cell_type": "code",
   "execution_count": 31,
   "metadata": {},
   "outputs": [],
   "source": [
    "kernel_sharp5 = np.array([[1, 1, 1],[1, -8, 1],[1, 1, 1]], np.float32)\n",
    "edgex = np.array([[-1, -2, -1], [0, 0, 0], [1, 2, 1]], np.float32)\n",
    "sharp_img5 = cv2.filter2D(img, -1, kernel=edgex)\n",
    "cv2.imshow('edgex_lena', sharp_img5)\n",
    "key = cv2.waitKey()\n",
    "if key == 27:\n",
    "    cv2.destroyAllWindows()\n",
    "edgey = np.array([[-1, 0, -1], [-2, 0, -2], [-1, 0, 1]], np.float32)\n",
    "sharp_img6 = cv2.filter2D(img, -1, kernel=edgey)\n",
    "cv2.imshow(\"sharp_img5\", sharp_img5)\n",
    "cv2.imshow(\"sharp_img6\", sharp_img6)\n",
    "key = cv2.waitKey()\n",
    "if key == 27:\n",
    "    cv2.destroyAllWindows()"
   ]
  },
  {
   "cell_type": "code",
   "execution_count": 3,
   "metadata": {},
   "outputs": [],
   "source": [
    "# feature point\n"
   ]
  },
  {
   "cell_type": "code",
   "execution_count": 3,
   "metadata": {},
   "outputs": [
    {
     "name": "stdout",
     "output_type": "stream",
     "text": [
      "(1047, 128)\n"
     ]
    }
   ],
   "source": [
    "########### SIFT ###########\n",
    "img = cv2.imread(\"E:/lena.jpg\")\n",
    "# create sift class\n",
    "sift = cv2.xfeatures2d.SIFT_create()\n",
    "# detect SIFT\n",
    "kp = sift.detect(img,None)   # None for mask\n",
    "# compute SIFT descriptor\n",
    "kp,des = sift.compute(img,kp)\n",
    "print(des.shape)\n",
    "img_sift= cv2.drawKeypoints(img,kp,outImage=np.array([]), flags=cv2.DRAW_MATCHES_FLAGS_DRAW_RICH_KEYPOINTS)\n",
    "cv2.imshow('lenna_sift.jpg', img_sift)\n",
    "key = cv2.waitKey()\n",
    "if key == 27:\n",
    "    cv2.destroyAllWindows()"
   ]
  },
  {
   "cell_type": "code",
   "execution_count": null,
   "metadata": {},
   "outputs": [],
   "source": []
  }
 ],
 "metadata": {
  "kernelspec": {
   "display_name": "Python 3",
   "language": "python",
   "name": "python3"
  },
  "language_info": {
   "codemirror_mode": {
    "name": "ipython",
    "version": 3
   },
   "file_extension": ".py",
   "mimetype": "text/x-python",
   "name": "python",
   "nbconvert_exporter": "python",
   "pygments_lexer": "ipython3",
   "version": "3.7.3"
  }
 },
 "nbformat": 4,
 "nbformat_minor": 2
}
