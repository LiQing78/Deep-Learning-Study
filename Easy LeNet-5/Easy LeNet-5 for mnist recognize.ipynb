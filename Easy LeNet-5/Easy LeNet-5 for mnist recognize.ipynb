{
 "cells": [
  {
   "cell_type": "code",
   "execution_count": 1,
   "metadata": {},
   "outputs": [
    {
     "name": "stderr",
     "output_type": "stream",
     "text": [
      "Using TensorFlow backend.\n"
     ]
    }
   ],
   "source": [
    "import numpy as np\n",
    "import keras\n",
    "from keras.datasets import mnist\n",
    "from keras.utils import np_utils\n",
    "from keras.models import Sequential"
   ]
  },
  {
   "cell_type": "code",
   "execution_count": 2,
   "metadata": {},
   "outputs": [],
   "source": [
    "# get dataset\n",
    "(X_train, Y_train), (X_test, Y_test) = mnist.load_data()"
   ]
  },
  {
   "cell_type": "code",
   "execution_count": 3,
   "metadata": {},
   "outputs": [
    {
     "name": "stdout",
     "output_type": "stream",
     "text": [
      "The train datasets have data: 60000\n",
      "The test datasets have data: 10000\n",
      "X_train: (60000, 28, 28)\n",
      "Y_train: (60000,)\n",
      "X_test: (10000, 28, 28)\n",
      "Y_test: (10000,)\n"
     ]
    }
   ],
   "source": [
    "# dataset shape\n",
    "# train datasets have 60k, each data size is 28X28\n",
    "# test datasets have 10k, each data size is 28X28\n",
    "print(\"The train datasets have data: \" + str(X_train.shape[0]))\n",
    "print(\"The test datasets have data: \" + str(X_test.shape[0]))\n",
    "print(\"X_train: \" + str(X_train.shape))\n",
    "print(\"Y_train: \" + str(Y_train.shape))\n",
    "print(\"X_test: \" + str(X_test.shape))\n",
    "print(\"Y_test: \" + str(Y_test.shape))"
   ]
  },
  {
   "cell_type": "code",
   "execution_count": 4,
   "metadata": {},
   "outputs": [
    {
     "name": "stdout",
     "output_type": "stream",
     "text": [
      "Y_train shape after onehot: (60000, 10)\n",
      "Y_test shape after onehot: (10000, 10)\n"
     ]
    }
   ],
   "source": [
    "# prepare data \n",
    "X_train = X_train.reshape(-1, 28, 28, 1)\n",
    "X_test = X_test.reshape(-1, 28, 28, 1)\n",
    "X_train = X_train / 255\n",
    "X_test = X_test / 255\n",
    "# np_utils.to_categorical(y, num_classes=None, dtype='float32')\n",
    "# 将整型标签转为onehot，y为int数组，num_classes为标签类别总数\n",
    "y_train = np_utils.to_categorical(Y_train, num_classes=10)\n",
    "y_test = np_utils.to_categorical(Y_test, num_classes=10)\n",
    "print(\"Y_train shape after onehot: \" + str(y_train.shape))\n",
    "print(\"Y_test shape after onehot: \" + str(y_test.shape))"
   ]
  },
  {
   "cell_type": "code",
   "execution_count": 13,
   "metadata": {},
   "outputs": [
    {
     "name": "stdout",
     "output_type": "stream",
     "text": [
      "Training...\n",
      "Epoch 1/2\n",
      "60000/60000 [==============================] - 117s 2ms/step - loss: 0.1028 - acc: 0.9678\n",
      "Epoch 2/2\n",
      "60000/60000 [==============================] - 111s 2ms/step - loss: 0.0389 - acc: 0.9884\n",
      "Testing...\n",
      "10000/10000 [==============================] - 3s 307us/step\n",
      "loss:  0.04161955427897519\n",
      "accuracy:  0.9885\n"
     ]
    }
   ],
   "source": [
    "# Sequential 顺序模型，将多个网络层进行线性叠加\n",
    "# 1. 创建Sequential模型实例\n",
    "model = Sequential()\n",
    "# 2. 创建模型-将各层添加到模型中\n",
    "model.add(keras.layers.Conv2D(input_shape=(28,28,1), kernel_size=(5,5), filters=20, activation='relu'))\n",
    "model.add(keras.layers.MaxPooling2D(pool_size=(2,2), strides=2, padding='same'))\n",
    "model.add(keras.layers.Conv2D(kernel_size=(5,5), filters=50, activation='relu', padding='same'))\n",
    "model.add(keras.layers.MaxPooling2D(pool_size=(2,2), strides=2, padding='same'))\n",
    "model.add(keras.layers.Flatten())\n",
    "model.add(keras.layers.Dense(500, activation='relu'))\n",
    "model.add(keras.layers.Dense(10, activation='softmax'))\n",
    "# 3. 编译模型\n",
    "model.compile(optimizer='rmsprop', loss='categorical_crossentropy', metrics=['accuracy'])\n",
    "# 4. 训练模型 \n",
    "print(\"Training...\")\n",
    "model.fit(X_train, y_train, epochs=2, batch_size=32)\n",
    "# 5. 预测\n",
    "print(\"Testing...\")\n",
    "loss, accuracy = model.evaluate(X_test, y_test)\n",
    "print('loss: ', loss )\n",
    "print('accuracy: ', accuracy)"
   ]
  }
 ],
 "metadata": {
  "kernelspec": {
   "display_name": "Python 3",
   "language": "python",
   "name": "python3"
  },
  "language_info": {
   "codemirror_mode": {
    "name": "ipython",
    "version": 3
   },
   "file_extension": ".py",
   "mimetype": "text/x-python",
   "name": "python",
   "nbconvert_exporter": "python",
   "pygments_lexer": "ipython3",
   "version": "3.7.3"
  }
 },
 "nbformat": 4,
 "nbformat_minor": 2
}
