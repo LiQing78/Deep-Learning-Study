{
 "cells": [
  {
   "cell_type": "code",
   "execution_count": 1,
   "metadata": {},
   "outputs": [],
   "source": [
    "import cv2\n",
    "import numpy as np\n",
    "import matplotlib.pyplot as plt\n",
    "import random\n",
    "%matplotlib inline"
   ]
  },
  {
   "cell_type": "code",
   "execution_count": 3,
   "metadata": {},
   "outputs": [],
   "source": [
    "img_gray = cv2.imread('E:/lena.jpg', 0) # 0表示显示灰度图像\n",
    "cv2.imshow('lena_grey', img_gray)\n",
    "# 以下三行用于成功显示图片，esc可以直接退出显示\n",
    "key = cv2.waitKey()\n",
    "if key == 27:\n",
    "    cv2.destroyAllWindows()"
   ]
  },
  {
   "cell_type": "code",
   "execution_count": 4,
   "metadata": {},
   "outputs": [
    {
     "name": "stdout",
     "output_type": "stream",
     "text": [
      "[[131 137 131 ...  96  96  96]\n",
      " [132 135 133 ...  96  98  99]\n",
      " [134 132 135 ...  98  99 100]\n",
      " ...\n",
      " [110 109 114 ...  47  47  48]\n",
      " [107 109 111 ...  47  47  51]\n",
      " [101 107 109 ...  47  48  54]]\n"
     ]
    }
   ],
   "source": [
    "# 显示灰度图像矩阵,数值代表灰度值，明亮程度，越大表示越亮\n",
    "print(img_gray)"
   ]
  },
  {
   "cell_type": "code",
   "execution_count": 5,
   "metadata": {},
   "outputs": [
    {
     "name": "stdout",
     "output_type": "stream",
     "text": [
      "uint8\n"
     ]
    }
   ],
   "source": [
    "# 显示图像矩阵的数据类型，2的8次方为256,so 灰度图的值为0-255\n",
    "print(img_gray.dtype)"
   ]
  },
  {
   "cell_type": "code",
   "execution_count": 6,
   "metadata": {},
   "outputs": [
    {
     "name": "stdout",
     "output_type": "stream",
     "text": [
      "(512, 512)\n"
     ]
    }
   ],
   "source": [
    "# 显示图像的shape，行 * 列(像素值)\n",
    "print(img_gray.shape)"
   ]
  },
  {
   "cell_type": "code",
   "execution_count": 7,
   "metadata": {},
   "outputs": [],
   "source": [
    "img = cv2.imread(\"E:/lena.jpg\")\n",
    "cv2.imshow(\"lena\", img)\n",
    "key = cv2.waitKey()\n",
    "if key == 27:\n",
    "    cv2.destroyAllWindows()"
   ]
  },
  {
   "cell_type": "code",
   "execution_count": 8,
   "metadata": {},
   "outputs": [
    {
     "name": "stdout",
     "output_type": "stream",
     "text": [
      "[[[ 74 110 194]\n",
      "  [ 80 116 200]\n",
      "  [ 74 110 194]\n",
      "  ...\n",
      "  [ 55  77 148]\n",
      "  [ 55  78 146]\n",
      "  [ 55  78 146]]\n",
      "\n",
      " [[ 75 111 195]\n",
      "  [ 78 114 198]\n",
      "  [ 76 112 196]\n",
      "  ...\n",
      "  [ 55  78 146]\n",
      "  [ 57  80 148]\n",
      "  [ 58  81 149]]\n",
      "\n",
      " [[ 77 113 197]\n",
      "  [ 75 111 195]\n",
      "  [ 78 114 198]\n",
      "  ...\n",
      "  [ 55  81 148]\n",
      "  [ 58  81 149]\n",
      "  [ 59  83 149]]\n",
      "\n",
      " ...\n",
      "\n",
      " [[ 60  90 167]\n",
      "  [ 59  89 166]\n",
      "  [ 64  94 171]\n",
      "  ...\n",
      "  [ 38  38  68]\n",
      "  [ 36  38  68]\n",
      "  [ 37  39  69]]\n",
      "\n",
      " [[ 57  87 164]\n",
      "  [ 59  89 166]\n",
      "  [ 60  92 168]\n",
      "  ...\n",
      "  [ 38  38  68]\n",
      "  [ 36  38  69]\n",
      "  [ 40  42  73]]\n",
      "\n",
      " [[ 51  81 158]\n",
      "  [ 57  87 164]\n",
      "  [ 58  90 166]\n",
      "  ...\n",
      "  [ 38  38  68]\n",
      "  [ 37  39  70]\n",
      "  [ 43  45  76]]]\n",
      "(512, 512, 3)\n"
     ]
    }
   ],
   "source": [
    "print(img)\n",
    "print(img.shape) # 彩色图像是三个通道组合成，行*列*通道"
   ]
  },
  {
   "cell_type": "code",
   "execution_count": 9,
   "metadata": {},
   "outputs": [],
   "source": [
    "#color split 把三个颜色通道分开，分别显示，opencv三个通道分别为B, G, R\n",
    "B, G, R = cv2.split(img)\n",
    "cv2.imshow(\"B channel image\", B)\n",
    "cv2.imshow(\"G channel image\", G)\n",
    "cv2.imshow(\"R channel image\", R)\n",
    "key = cv2.waitKey()\n",
    "if key == 27:\n",
    "    cv2.destroyAllWindows() # click Esc to destory all windows"
   ]
  },
  {
   "cell_type": "code",
   "execution_count": 14,
   "metadata": {},
   "outputs": [],
   "source": [
    "# change color 通过随机改变各通道图像的灰度值，改变合成后图像的颜色\n",
    "def random_change_color(img):\n",
    "    \"\"\"\n",
    "    输入一副图像，输出一副颜色更改后的图像\n",
    "    \"\"\"\n",
    "    B, G, R = cv2.split(img)\n",
    "    b_rand = random.randint(-50, 50) # 生成一个随机整数，范围在-50 - 50 \n",
    "    if b_rand == 0:\n",
    "        pass\n",
    "    elif b_rand > 0:\n",
    "        lim = 255 - b_rand # 取值范围在205 - 255\n",
    "        B[B > lim] = 255\n",
    "        B[B <= lim] = (b_rand + B[B <= lim]).astype(img.dtype) # ?\n",
    "    elif b_rand < 0:\n",
    "        lim = 0 - b_rand\n",
    "        B[B < lim] = 0\n",
    "        B[B >= lim] = (b_rand + B[B >= lim]).astype(img.dtype)\n",
    "#     return img[B]\n",
    "    g_rand = random.randint(-50, 50)\n",
    "    if g_rand == 0:\n",
    "        pass\n",
    "    elif g_rand > 0:\n",
    "        lim = 255 - g_rand\n",
    "        G[G > lim] = 255\n",
    "        G[G <= lim] = (g_rand + G[G <= lim]).astype(img.dtype)\n",
    "    elif g_rand < 0:\n",
    "        lim = 0 - g_rand\n",
    "        G[G < lim] = 0\n",
    "        G[G >= lim] = (g_rand + G[G >= lim]).astype(img.dtype)\n",
    "\n",
    "    r_rand = random.randint(-50, 50)\n",
    "    if r_rand == 0:\n",
    "        pass\n",
    "    elif r_rand > 0:\n",
    "        lim = 255 - r_rand\n",
    "        R[R > lim] = 255\n",
    "        R[R <= lim] = (r_rand + R[R <= lim]).astype(img.dtype)\n",
    "    elif r_rand < 0:\n",
    "        lim = 0 - r_rand\n",
    "        R[R < lim] = 0\n",
    "        R[R >= lim] = (r_rand + R[R >= lim]).astype(img.dtype)\n",
    "\n",
    "    img_merge = cv2.merge((B, G, R))\n",
    "    #img = cv2.cvtColor(final_hsv, cv2.COLOR_HSV2BGR)\n",
    "    return img_merge"
   ]
  },
  {
   "cell_type": "code",
   "execution_count": 15,
   "metadata": {},
   "outputs": [],
   "source": [
    "img_random_color = random_change_color(img)\n",
    "cv2.imshow(\"img_random_color\", img_random_color)\n",
    "key = cv2.waitKey()\n",
    "if key == 27:\n",
    "    cv2.destroyAllWindows()"
   ]
  },
  {
   "cell_type": "code",
   "execution_count": null,
   "metadata": {},
   "outputs": [],
   "source": []
  }
 ],
 "metadata": {
  "kernelspec": {
   "display_name": "Python 3",
   "language": "python",
   "name": "python3"
  },
  "language_info": {
   "codemirror_mode": {
    "name": "ipython",
    "version": 3
   },
   "file_extension": ".py",
   "mimetype": "text/x-python",
   "name": "python",
   "nbconvert_exporter": "python",
   "pygments_lexer": "ipython3",
   "version": "3.7.3"
  }
 },
 "nbformat": 4,
 "nbformat_minor": 2
}
